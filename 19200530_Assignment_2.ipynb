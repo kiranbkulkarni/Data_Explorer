{
  "nbformat": 4,
  "nbformat_minor": 0,
  "metadata": {
    "kernelspec": {
      "display_name": "Python 3",
      "language": "python",
      "name": "python3"
    },
    "language_info": {
      "codemirror_mode": {
        "name": "ipython",
        "version": 3
      },
      "file_extension": ".py",
      "mimetype": "text/x-python",
      "name": "python",
      "nbconvert_exporter": "python",
      "pygments_lexer": "ipython3",
      "version": "3.7.4"
    },
    "colab": {
      "name": "19200530_Assignment_2.ipynb",
      "provenance": [],
      "collapsed_sections": [
        "5BjGex3pYytk"
      ],
      "include_colab_link": true
    }
  },
  "cells": [
    {
      "cell_type": "markdown",
      "metadata": {
        "id": "view-in-github",
        "colab_type": "text"
      },
      "source": [
        "<a href=\"https://colab.research.google.com/github/kiranbkulkarni/Data_Explorer/blob/master/19200530_Assignment_2.ipynb\" target=\"_parent\"><img src=\"https://colab.research.google.com/assets/colab-badge.svg\" alt=\"Open In Colab\"/></a>"
      ]
    },
    {
      "cell_type": "markdown",
      "metadata": {
        "id": "o2RAqf0PYysh",
        "colab_type": "text"
      },
      "source": [
        "# COMP47670 Assignment 2: Text Classification"
      ]
    },
    {
      "cell_type": "markdown",
      "metadata": {
        "id": "3y81hfRpYysk",
        "colab_type": "text"
      },
      "source": [
        "**Presented By**: Kiran Kulkarni(*19200530*)"
      ]
    },
    {
      "cell_type": "markdown",
      "metadata": {
        "id": "2YqA8K0rYysm",
        "colab_type": "text"
      },
      "source": [
        "### Overview:  \n",
        "The objective of this assignment is to scrape consumer reviews from a set of web pages and evaluate the performance of text classification on the data. The reviews have been divided into five categories here:\n",
        "    * http://mlg.ucd.ie/modules/yalp *\n",
        "Each review has a star rating. For this assignment, we will assume that 1-star to 3-star reviews are “negative”, and 4-star to 5-star reviews as “positive”.\n"
      ]
    },
    {
      "cell_type": "markdown",
      "metadata": {
        "id": "kEEhJCSrYyso",
        "colab_type": "text"
      },
      "source": [
        "The following tasks were completed as part of the assignment\n",
        "\n",
        "* Task 1: To select three categories from the above mentioned base URL. To scrape all the reviews for each cartegory ans store them as three seperate datasets. To segregate the reviews based on the ratings and to provide a class label.(i.e., Positive or Negative)\n",
        "\n",
        "* Task 2: For the three category datasets: \n",
        "    * a.\tFrom the reviews in this category, apply appropriate preprocessing steps to create a numeric representation of the data, suitable for classification.\n",
        "    * b.\tBuild a classification model using a classifier of your choice, to distinguish between “positive” and “negative” reviews.\n",
        "    * c.\tTest the predictions of the classification model using an appropriate evaluation strategy. Report and discuss the evaluation results in your notebook.\n",
        "\n",
        "* 3.\tEvaluate the performance of each of your three classification models when applied to data from the other two selected categories. That is, for each unique pair of selected categories (A,B), run the experiments:\n",
        "    * a.\tTrain a classification model on the data from “Category A”, and evaluate its performance on the data from “Category B”.\n",
        "    * b.\tTrain a classification model on the data from “Category B”, and evaluate its performance on the data from “Category A”.\n",
        "    \n",
        "    \n",
        "#### GUIDELINES: \n",
        "For the assignment, only these third-party packages were used: NumPy, Pandas, Scikit-learn, NLTK, SciPy, Requests, BeautifulSoup, Matplotlib, Seaborn, Gensim\n"
      ]
    },
    {
      "cell_type": "markdown",
      "metadata": {
        "id": "sr_V6lavYysq",
        "colab_type": "text"
      },
      "source": [
        "### TASK 1: Scraping for reviews"
      ]
    },
    {
      "cell_type": "markdown",
      "metadata": {
        "id": "_xC4fBHdYyss",
        "colab_type": "text"
      },
      "source": [
        "Before we begin the task 1, few necessary python packages should be installed on the machine. Some machines does have them installed and some don't."
      ]
    },
    {
      "cell_type": "code",
      "metadata": {
        "id": "3mohpFmKYysu",
        "colab_type": "code",
        "colab": {}
      },
      "source": [
        "#Installing the necessary packages\n",
        "\n",
        "#!pip install beautifulsoup4\n",
        "#!pip install lxml\n",
        "#!pip install langdetect\n",
        "#!pip install requests\n",
        "#!pip intsall gensim\n",
        "#!pip install seaborn\n",
        "#!pip install nltk"
      ],
      "execution_count": 0,
      "outputs": []
    },
    {
      "cell_type": "markdown",
      "metadata": {
        "id": "IObeLO6GYys5",
        "colab_type": "text"
      },
      "source": [
        "Once the necessary packges are installed, we should import them to our project."
      ]
    },
    {
      "cell_type": "code",
      "metadata": {
        "id": "b8Tf3fntYys7",
        "colab_type": "code",
        "colab": {}
      },
      "source": [
        "#import nltk - natural language toolkit\n",
        "import nltk\n",
        "\n",
        "#import the beautifulsoup 4 package for scraping the websites for reviews.\n",
        "import bs4 as bs\n",
        "\n",
        "#import the request package for hanfling http requests.\n",
        "import urllib.request\n",
        "\n",
        "#import pandas to hangle the panel data and store the scraped data into dataframes.\n",
        "import pandas as pd\n",
        "\n",
        "#import datetime. Not relevant to this project. \n",
        "from datetime import datetime\n",
        "\n",
        "#import numpy as np. To handle numerical data.\n",
        "import numpy as np\n",
        "\n",
        "#import regular expression\n",
        "import re\n",
        "import string\n",
        "\n",
        "from sklearn.feature_extraction.text import CountVectorizer, ENGLISH_STOP_WORDS\n",
        "\n",
        "from sklearn.linear_model import LogisticRegression\n",
        "\n",
        "#accuracy using accuracy_score\n",
        "from sklearn.metrics import accuracy_score\n",
        "\n",
        "from sklearn.model_selection import train_test_split"
      ],
      "execution_count": 0,
      "outputs": []
    },
    {
      "cell_type": "markdown",
      "metadata": {
        "id": "426NtZ-yYytD",
        "colab_type": "text"
      },
      "source": [
        "After installing NLTK package, a few sub modules needs to be downloaded. Using the following lines of code, 'punkt', 'stopwords' are downloadedm"
      ]
    },
    {
      "cell_type": "code",
      "metadata": {
        "id": "uamBdqIcYytF",
        "colab_type": "code",
        "colab": {}
      },
      "source": [
        "#download the stopwords subpackage of nltk\n",
        "\n",
        "#nltk.download ('stopwords')\n",
        "\n",
        "#download the punkt subpackage of nltk\n",
        "\n",
        "#nltk.download ('punkt')\n",
        "\n",
        "#download all packages in nltk\n",
        "\n",
        "#nltk.download()"
      ],
      "execution_count": 0,
      "outputs": []
    },
    {
      "cell_type": "markdown",
      "metadata": {
        "id": "VnLIaOlyYytN",
        "colab_type": "text"
      },
      "source": [
        "To begin with, I have chosen Automotive, Cafe, and Fashion as my three choices of category. This choice is arbitrary. Choosing the categories which are more similar in nature(i.e., cafes and restaurants) could add bias to our Machine Learning model. So, keeping this in mind I have taken categories that are not closely related. "
      ]
    },
    {
      "cell_type": "markdown",
      "metadata": {
        "id": "7q6giK5_YytO",
        "colab_type": "text"
      },
      "source": [
        "### Scrape for data"
      ]
    },
    {
      "cell_type": "markdown",
      "metadata": {
        "id": "VepNKgZkYytP",
        "colab_type": "text"
      },
      "source": [
        "In order tp scrape the data from the url, I have written a function to each category which takes a url as input and returns a data frame containing the requested data. This function is more specific the kind of data  we are trying to scrape. It cannot be generalised."
      ]
    },
    {
      "cell_type": "code",
      "metadata": {
        "id": "VhQ8ZMN7YytR",
        "colab_type": "code",
        "colab": {}
      },
      "source": [
        "\n",
        "# A function to scrape data from the base url\n",
        "def scrape_data(url): # url of each category\n",
        "    df_category = pd.DataFrame() #initialise an empty dataframe to hold the data\n",
        "    review_rating = [] # a list to hold the review text for each review\n",
        "    review_text = [] # a list to hold review rating for each review\n",
        "\n",
        "    sauce_category = urllib.request.urlopen(url).read() # passing the category url to create a sauce object\n",
        "    soup_category = bs.BeautifulSoup(sauce_category, 'lxml') # passing the sauce object to create a soup object\n",
        "    for item_url in soup_category.find_all('a'): # for loop to iterate overate each url for each shop.\n",
        "        if item_url.get('href') == \"index.html\": # an if condition to skip the index.html\n",
        "            continue # to skip and continue to next item\n",
        "        sauce_n = urllib.request.urlopen('http://mlg.ucd.ie/modules/yalp/'+item_url.get('href')).read() #passing the item_url to create a item_sauce object\n",
        "        soup_n = bs.BeautifulSoup(sauce_n, 'html.parser') #passing the item_suace object to create a item_soup object\n",
        "        for review_containers in soup_n.find_all(\"div\", {\"class\": \"review\"}): # for lopp to iterate over each review\n",
        "            review_rating.append(review_containers.find_all(\"p\", {\"class\": \"rating\"})[0].find_all('img')[0][\"alt\"]) #extracting review rating and appending it to the review_rating list\n",
        "            review_text.append(review_containers.find_all(\"p\", {\"class\": \"review-text\"})[0].text) # extracting the review_text and appending it to the review_text list\n",
        "        \n",
        "    df_category['review_rating'] = review_rating #assigning the review rating to data frame\n",
        "    df_category['review_text'] = review_text #assigning the review text to data frame \n",
        "    \n",
        "    return df_category # return the data in the form of a dataframe."
      ],
      "execution_count": 0,
      "outputs": []
    },
    {
      "cell_type": "code",
      "metadata": {
        "id": "oliV6iSZYyta",
        "colab_type": "code",
        "colab": {}
      },
      "source": [
        "cafe_url = 'http://mlg.ucd.ie/modules/yalp/cafes_list.html' # a variable to hold the cafe url\n",
        "auto_url = 'http://mlg.ucd.ie/modules/yalp/automotive_list.html' # a variable to hold automotive url\n",
        "fash_url = 'http://mlg.ucd.ie/modules/yalp/fashion_list.html' # a variable to hold fashion url\n",
        "\n",
        "df_cafe = scrape_data(cafe_url) # a dataframe to hold the cafe data\n",
        "df_auto = scrape_data(auto_url) # a dataframe to hold the automotive data\n",
        "df_fash = scrape_data(fash_url) # a dataframe to hold the fashion data"
      ],
      "execution_count": 0,
      "outputs": []
    },
    {
      "cell_type": "markdown",
      "metadata": {
        "id": "57hbYeGdYytf",
        "colab_type": "text"
      },
      "source": [
        "Storing the data into a csv."
      ]
    },
    {
      "cell_type": "code",
      "metadata": {
        "id": "0q3yBBUuYytg",
        "colab_type": "code",
        "colab": {}
      },
      "source": [
        "df_cafe.to_csv('cafe_reviews.csv') # saving data frame into a csv file\n",
        "df_auto.to_csv('automotive_reviews.csv')\n",
        "df_fash.to_csv('fashion_reviews.csv')"
      ],
      "execution_count": 0,
      "outputs": []
    },
    {
      "cell_type": "markdown",
      "metadata": {
        "id": "5BjGex3pYytk",
        "colab_type": "text"
      },
      "source": [
        "### Text pre-processing and assigning the traget label"
      ]
    },
    {
      "cell_type": "markdown",
      "metadata": {
        "id": "gYECF2jBYytl",
        "colab_type": "text"
      },
      "source": [
        "Before beginning the text pre-processing, let's first clean the collected data"
      ]
    },
    {
      "cell_type": "code",
      "metadata": {
        "id": "XI2r_RI5Yytm",
        "colab_type": "code",
        "colab": {}
      },
      "source": [
        "df_cafe['review_rating'] = df_cafe['review_rating'].str.split('-', expand=True)[0].astype(int) # split function applied to extract the rating(numeric part) from rating text \n",
        "df_auto['review_rating'] = df_auto['review_rating'].str.split('-', expand=True)[0].astype(int)\n",
        "df_fash['review_rating'] = df_fash['review_rating'].str.split('-', expand=True)[0].astype(int)"
      ],
      "execution_count": 0,
      "outputs": []
    },
    {
      "cell_type": "code",
      "metadata": {
        "id": "DlFTwmpLYytq",
        "colab_type": "code",
        "colab": {},
        "outputId": "baf44d36-107c-4ed4-8c55-2b19ed8e279e"
      },
      "source": [
        "print(df_cafe.head()) # to confirm the changes in previous step have been applied\n",
        "\n",
        "print(type(df_cafe.review_rating[0]))"
      ],
      "execution_count": 0,
      "outputs": [
        {
          "output_type": "stream",
          "text": [
            "   review_rating                                        review_text\n",
            "0              4  Pros: Lots of items you would not expect from ...\n",
            "1              4  Best egg-tarts in town! There's really not muc...\n",
            "2              2  I've been to ABC Bakery a few times since I re...\n",
            "3              1  FYI, Closed Monday's New ownership for about 1...\n",
            "4              4  The inside may not look like much but they mak...\n",
            "<class 'numpy.int32'>\n"
          ],
          "name": "stdout"
        }
      ]
    },
    {
      "cell_type": "markdown",
      "metadata": {
        "id": "6Yjj1SSZYytw",
        "colab_type": "text"
      },
      "source": [
        "### To classify the reviews based on the rating. If the rating is below 3-star it's considered as Negative else it's Positive."
      ]
    },
    {
      "cell_type": "code",
      "metadata": {
        "id": "0RH_jTTgYytx",
        "colab_type": "code",
        "colab": {}
      },
      "source": [
        "\n",
        "# a funtion to classify the review text based on the rating\n",
        "def classify_review(df):\n",
        "    df['class_label'] = np.where(df['review_rating']>=4, 'Positive', 'Negative') # if the rating is equal to or greater than 4, it's classified as Postive else Negative\n",
        "    return df\n"
      ],
      "execution_count": 0,
      "outputs": []
    },
    {
      "cell_type": "code",
      "metadata": {
        "id": "LkU30ZUDYyt3",
        "colab_type": "code",
        "colab": {},
        "outputId": "643fa06e-aeeb-4ca9-9c5b-56f23c8c74a2"
      },
      "source": [
        "classify_review(df_cafe) #applying classify_review() on each category\n",
        "classify_review(df_auto)\n",
        "classify_review(df_fash)"
      ],
      "execution_count": 0,
      "outputs": [
        {
          "output_type": "execute_result",
          "data": {
            "text/html": [
              "<div>\n",
              "<style scoped>\n",
              "    .dataframe tbody tr th:only-of-type {\n",
              "        vertical-align: middle;\n",
              "    }\n",
              "\n",
              "    .dataframe tbody tr th {\n",
              "        vertical-align: top;\n",
              "    }\n",
              "\n",
              "    .dataframe thead th {\n",
              "        text-align: right;\n",
              "    }\n",
              "</style>\n",
              "<table border=\"1\" class=\"dataframe\">\n",
              "  <thead>\n",
              "    <tr style=\"text-align: right;\">\n",
              "      <th></th>\n",
              "      <th>review_rating</th>\n",
              "      <th>review_text</th>\n",
              "      <th>class_label</th>\n",
              "    </tr>\n",
              "  </thead>\n",
              "  <tbody>\n",
              "    <tr>\n",
              "      <td>0</td>\n",
              "      <td>5</td>\n",
              "      <td>Looking for the best tactical supplies? Look n...</td>\n",
              "      <td>Positive</td>\n",
              "    </tr>\n",
              "    <tr>\n",
              "      <td>1</td>\n",
              "      <td>1</td>\n",
              "      <td>Stood in line like an idiot for 5 minutes to p...</td>\n",
              "      <td>Negative</td>\n",
              "    </tr>\n",
              "    <tr>\n",
              "      <td>2</td>\n",
              "      <td>4</td>\n",
              "      <td>Another great store with quality Equipment. Th...</td>\n",
              "      <td>Positive</td>\n",
              "    </tr>\n",
              "    <tr>\n",
              "      <td>3</td>\n",
              "      <td>5</td>\n",
              "      <td>The Problem with this store is not that they h...</td>\n",
              "      <td>Positive</td>\n",
              "    </tr>\n",
              "    <tr>\n",
              "      <td>4</td>\n",
              "      <td>5</td>\n",
              "      <td>Great place! We went in at almost closing time...</td>\n",
              "      <td>Positive</td>\n",
              "    </tr>\n",
              "    <tr>\n",
              "      <td>...</td>\n",
              "      <td>...</td>\n",
              "      <td>...</td>\n",
              "      <td>...</td>\n",
              "    </tr>\n",
              "    <tr>\n",
              "      <td>1995</td>\n",
              "      <td>4</td>\n",
              "      <td>God, I'd never thought I'd see the day when I'...</td>\n",
              "      <td>Positive</td>\n",
              "    </tr>\n",
              "    <tr>\n",
              "      <td>1996</td>\n",
              "      <td>1</td>\n",
              "      <td>They keep shooting themselves in the foot. Apo...</td>\n",
              "      <td>Negative</td>\n",
              "    </tr>\n",
              "    <tr>\n",
              "      <td>1997</td>\n",
              "      <td>1</td>\n",
              "      <td>Extremely dark., so dark you can't see the out...</td>\n",
              "      <td>Negative</td>\n",
              "    </tr>\n",
              "    <tr>\n",
              "      <td>1998</td>\n",
              "      <td>1</td>\n",
              "      <td>This place is dark, loud, and filled with enou...</td>\n",
              "      <td>Negative</td>\n",
              "    </tr>\n",
              "    <tr>\n",
              "      <td>1999</td>\n",
              "      <td>1</td>\n",
              "      <td>If you ever wanted proof that sex sells just l...</td>\n",
              "      <td>Negative</td>\n",
              "    </tr>\n",
              "  </tbody>\n",
              "</table>\n",
              "<p>2000 rows × 3 columns</p>\n",
              "</div>"
            ],
            "text/plain": [
              "      review_rating                                        review_text  \\\n",
              "0                 5  Looking for the best tactical supplies? Look n...   \n",
              "1                 1  Stood in line like an idiot for 5 minutes to p...   \n",
              "2                 4  Another great store with quality Equipment. Th...   \n",
              "3                 5  The Problem with this store is not that they h...   \n",
              "4                 5  Great place! We went in at almost closing time...   \n",
              "...             ...                                                ...   \n",
              "1995              4  God, I'd never thought I'd see the day when I'...   \n",
              "1996              1  They keep shooting themselves in the foot. Apo...   \n",
              "1997              1  Extremely dark., so dark you can't see the out...   \n",
              "1998              1  This place is dark, loud, and filled with enou...   \n",
              "1999              1  If you ever wanted proof that sex sells just l...   \n",
              "\n",
              "     class_label  \n",
              "0       Positive  \n",
              "1       Negative  \n",
              "2       Positive  \n",
              "3       Positive  \n",
              "4       Positive  \n",
              "...          ...  \n",
              "1995    Positive  \n",
              "1996    Negative  \n",
              "1997    Negative  \n",
              "1998    Negative  \n",
              "1999    Negative  \n",
              "\n",
              "[2000 rows x 3 columns]"
            ]
          },
          "metadata": {
            "tags": []
          },
          "execution_count": 31
        }
      ]
    },
    {
      "cell_type": "code",
      "metadata": {
        "id": "UmKRvBiAYyt7",
        "colab_type": "code",
        "colab": {},
        "outputId": "32088b27-0f80-468e-9bb8-d264f4e90f20"
      },
      "source": [
        "df_cafe.sample() #checking the sample"
      ],
      "execution_count": 0,
      "outputs": [
        {
          "output_type": "execute_result",
          "data": {
            "text/html": [
              "<div>\n",
              "<style scoped>\n",
              "    .dataframe tbody tr th:only-of-type {\n",
              "        vertical-align: middle;\n",
              "    }\n",
              "\n",
              "    .dataframe tbody tr th {\n",
              "        vertical-align: top;\n",
              "    }\n",
              "\n",
              "    .dataframe thead th {\n",
              "        text-align: right;\n",
              "    }\n",
              "</style>\n",
              "<table border=\"1\" class=\"dataframe\">\n",
              "  <thead>\n",
              "    <tr style=\"text-align: right;\">\n",
              "      <th></th>\n",
              "      <th>review_rating</th>\n",
              "      <th>review_text</th>\n",
              "      <th>class_label</th>\n",
              "    </tr>\n",
              "  </thead>\n",
              "  <tbody>\n",
              "    <tr>\n",
              "      <td>1960</td>\n",
              "      <td>3</td>\n",
              "      <td>If you want a smoothie this is a great place. ...</td>\n",
              "      <td>Negative</td>\n",
              "    </tr>\n",
              "  </tbody>\n",
              "</table>\n",
              "</div>"
            ],
            "text/plain": [
              "      review_rating                                        review_text  \\\n",
              "1960              3  If you want a smoothie this is a great place. ...   \n",
              "\n",
              "     class_label  \n",
              "1960    Negative  "
            ]
          },
          "metadata": {
            "tags": []
          },
          "execution_count": 32
        }
      ]
    },
    {
      "cell_type": "code",
      "metadata": {
        "id": "4ZuUpU0EYyuA",
        "colab_type": "code",
        "colab": {}
      },
      "source": [
        "\n",
        "# function to to do the first level of cleaning the data.  \n",
        "def text_preprocess(review_text):\n",
        "    #Make text lower, remove text in square brackets, remove punctuation and remove words.\n",
        "    review_text = review_text.lower()\n",
        "    review_text = re.sub('\\[.*?\\]', '', review_text)\n",
        "    review_text = re.sub('[%s]' % re.escape(string.punctuation), '', review_text)\n",
        "    review_text = re.sub('\\w*\\d\\w*', '', review_text)\n",
        "    review_text = re.sub('[''\"\"...]', '', review_text)\n",
        "    review_text = re.sub('\\n', '', review_text)\n",
        "    \n",
        "    return review_text\n",
        "\n",
        "#storing the reference to the function in a lambda\n",
        "pre_process = lambda txt: text_preprocess(txt)"
      ],
      "execution_count": 0,
      "outputs": []
    },
    {
      "cell_type": "code",
      "metadata": {
        "id": "x3qG1kMVYyuD",
        "colab_type": "code",
        "colab": {}
      },
      "source": [
        "df_cafe_clean = df_cafe #copying the raw data into a new dataframe\n",
        "df_cafe_clean.review_text = df_cafe_clean.review_text.apply(pre_process)\n",
        "\n",
        "df_auto_clean = df_auto #copying the raw data into a new dataframe\n",
        "df_auto_clean.review_text = df_auto_clean.review_text.apply(pre_process)\n",
        "\n",
        "df_fash_clean = df_fash #copying the raw data into a new dataframe\n",
        "df_fash_clean.review_text = df_fash_clean.review_text.apply(pre_process)"
      ],
      "execution_count": 0,
      "outputs": []
    },
    {
      "cell_type": "code",
      "metadata": {
        "id": "SJW5ynaDYyuH",
        "colab_type": "code",
        "colab": {},
        "outputId": "99be68d9-59a4-4a7a-8c3a-831d7842cff3"
      },
      "source": [
        "df_cafe_clean"
      ],
      "execution_count": 0,
      "outputs": [
        {
          "output_type": "execute_result",
          "data": {
            "text/html": [
              "<div>\n",
              "<style scoped>\n",
              "    .dataframe tbody tr th:only-of-type {\n",
              "        vertical-align: middle;\n",
              "    }\n",
              "\n",
              "    .dataframe tbody tr th {\n",
              "        vertical-align: top;\n",
              "    }\n",
              "\n",
              "    .dataframe thead th {\n",
              "        text-align: right;\n",
              "    }\n",
              "</style>\n",
              "<table border=\"1\" class=\"dataframe\">\n",
              "  <thead>\n",
              "    <tr style=\"text-align: right;\">\n",
              "      <th></th>\n",
              "      <th>review_rating</th>\n",
              "      <th>review_text</th>\n",
              "      <th>class_label</th>\n",
              "    </tr>\n",
              "  </thead>\n",
              "  <tbody>\n",
              "    <tr>\n",
              "      <td>0</td>\n",
              "      <td>4</td>\n",
              "      <td>pros lots of items you would not expect from a...</td>\n",
              "      <td>Positive</td>\n",
              "    </tr>\n",
              "    <tr>\n",
              "      <td>1</td>\n",
              "      <td>4</td>\n",
              "      <td>best eggtarts in town theres really not much t...</td>\n",
              "      <td>Positive</td>\n",
              "    </tr>\n",
              "    <tr>\n",
              "      <td>2</td>\n",
              "      <td>2</td>\n",
              "      <td>ive been to abc bakery a few times since i rea...</td>\n",
              "      <td>Negative</td>\n",
              "    </tr>\n",
              "    <tr>\n",
              "      <td>3</td>\n",
              "      <td>1</td>\n",
              "      <td>fyi closed mondays new ownership for about  we...</td>\n",
              "      <td>Negative</td>\n",
              "    </tr>\n",
              "    <tr>\n",
              "      <td>4</td>\n",
              "      <td>4</td>\n",
              "      <td>the inside may not look like much but they mak...</td>\n",
              "      <td>Positive</td>\n",
              "    </tr>\n",
              "    <tr>\n",
              "      <td>...</td>\n",
              "      <td>...</td>\n",
              "      <td>...</td>\n",
              "      <td>...</td>\n",
              "    </tr>\n",
              "    <tr>\n",
              "      <td>1995</td>\n",
              "      <td>3</td>\n",
              "      <td>i hate to be one of those obnoxious people who...</td>\n",
              "      <td>Negative</td>\n",
              "    </tr>\n",
              "    <tr>\n",
              "      <td>1996</td>\n",
              "      <td>3</td>\n",
              "      <td>its always a stop here for me either for a qui...</td>\n",
              "      <td>Negative</td>\n",
              "    </tr>\n",
              "    <tr>\n",
              "      <td>1997</td>\n",
              "      <td>3</td>\n",
              "      <td>it is nice to go there if youd like to go shop...</td>\n",
              "      <td>Negative</td>\n",
              "    </tr>\n",
              "    <tr>\n",
              "      <td>1998</td>\n",
              "      <td>3</td>\n",
              "      <td>my girlfriend and i had lunch there a few days...</td>\n",
              "      <td>Negative</td>\n",
              "    </tr>\n",
              "    <tr>\n",
              "      <td>1999</td>\n",
              "      <td>4</td>\n",
              "      <td>if you are ever craving a pick and choose cafe...</td>\n",
              "      <td>Positive</td>\n",
              "    </tr>\n",
              "  </tbody>\n",
              "</table>\n",
              "<p>2000 rows × 3 columns</p>\n",
              "</div>"
            ],
            "text/plain": [
              "      review_rating                                        review_text  \\\n",
              "0                 4  pros lots of items you would not expect from a...   \n",
              "1                 4  best eggtarts in town theres really not much t...   \n",
              "2                 2  ive been to abc bakery a few times since i rea...   \n",
              "3                 1  fyi closed mondays new ownership for about  we...   \n",
              "4                 4  the inside may not look like much but they mak...   \n",
              "...             ...                                                ...   \n",
              "1995              3  i hate to be one of those obnoxious people who...   \n",
              "1996              3  its always a stop here for me either for a qui...   \n",
              "1997              3  it is nice to go there if youd like to go shop...   \n",
              "1998              3  my girlfriend and i had lunch there a few days...   \n",
              "1999              4  if you are ever craving a pick and choose cafe...   \n",
              "\n",
              "     class_label  \n",
              "0       Positive  \n",
              "1       Positive  \n",
              "2       Negative  \n",
              "3       Negative  \n",
              "4       Positive  \n",
              "...          ...  \n",
              "1995    Negative  \n",
              "1996    Negative  \n",
              "1997    Negative  \n",
              "1998    Negative  \n",
              "1999    Positive  \n",
              "\n",
              "[2000 rows x 3 columns]"
            ]
          },
          "metadata": {
            "tags": []
          },
          "execution_count": 36
        }
      ]
    },
    {
      "cell_type": "code",
      "metadata": {
        "id": "HyZRNa6eYyuM",
        "colab_type": "code",
        "colab": {},
        "outputId": "f48d52e4-4d4a-4979-ac17-77cf39cfe74a"
      },
      "source": [
        "from sklearn.feature_extraction.text import CountVectorizer, ENGLISH_STOP_WORDS\n",
        "\n",
        "#from sklearn.feature_extraction.text import CountVectorizer \n",
        "\n",
        "# Build the vectorizer, specify max features \n",
        "# CountVectorizer(ngram_range=(min_n, max_n)), specify the n-grams required\n",
        "vect = CountVectorizer(ngram_range=(1,3),max_features=None, stop_words='english')\n",
        "# Fit the vectorizer\n",
        "vect.fit(df_cafe_clean.review_text)\n",
        "\n",
        "# Transform the review column\n",
        "X_cafe_review = vect.transform(df_cafe_clean.review_text)\n",
        "\n",
        "# Create the bow representation\n",
        "X_df=pd.DataFrame(X_cafe_review.toarray(), columns=vect.get_feature_names())\n",
        "print(X_df.head())"
      ],
      "execution_count": 0,
      "outputs": [
        {
          "output_type": "stream",
          "text": [
            "   aaa  aaa meat  aaa meat tender  aaa ribeye  aaa ribeye steak  aaand  \\\n",
            "0    0         0                0           0                 0      0   \n",
            "1    0         0                0           0                 0      0   \n",
            "2    0         0                0           0                 0      0   \n",
            "3    0         0                0           0                 0      0   \n",
            "4    0         0                0           0                 0      0   \n",
            "\n",
            "   aaand im  aaand im dead  aau  aau basketball  ...  été accueillis par  \\\n",
            "0         0              0    0               0  ...                   0   \n",
            "1         0              0    0               0  ...                   0   \n",
            "2         0              0    0               0  ...                   0   \n",
            "3         0              0    0               0  ...                   0   \n",
            "4         0              0    0               0  ...                   0   \n",
            "\n",
            "   été décu  été décu le  été très  été très bien  été époustouflée  \\\n",
            "0         0            0         0              0                 0   \n",
            "1         0            0         0              0                 0   \n",
            "2         0            0         0              0                 0   \n",
            "3         0            0         0              0                 0   \n",
            "4         0            0         0              0                 0   \n",
            "\n",
            "   été époustouflée par  üppige  üppige mahlzeit  üppige mahlzeit die  \n",
            "0                     0       0                0                    0  \n",
            "1                     0       0                0                    0  \n",
            "2                     0       0                0                    0  \n",
            "3                     0       0                0                    0  \n",
            "4                     0       0                0                    0  \n",
            "\n",
            "[5 rows x 178193 columns]\n"
          ],
          "name": "stdout"
        }
      ]
    },
    {
      "cell_type": "code",
      "metadata": {
        "id": "SjqM8e5PYyuQ",
        "colab_type": "code",
        "colab": {},
        "outputId": "8a69e6aa-6040-4a1d-ff4d-acd999d3afae"
      },
      "source": [
        "# Import the required vectorizer package and stop words list\n",
        "from sklearn.feature_extraction.text import TfidfVectorizer,ENGLISH_STOP_WORDS\n",
        "\n",
        "# Define the vectorizer and specify the arguments\n",
        "#my_pattern = r'\\b[^\\d\\W][^\\d\\W]+\\b'\n",
        "vect = TfidfVectorizer(ngram_range=(1, 2), max_features=None,stop_words=ENGLISH_STOP_WORDS).fit(df_cafe_clean.review_text)\n",
        "\n",
        "# Transform the vectorizer\n",
        "X_txt = vect.transform(df_cafe_clean.review_text)\n",
        "\n",
        "# Transform to a data frame and specify the column names\n",
        "X=pd.DataFrame(X_txt.toarray(), columns=vect.get_feature_names())\n",
        "print('Top 5 rows of the DataFrame: ', X.head())"
      ],
      "execution_count": 0,
      "outputs": [
        {
          "output_type": "stream",
          "text": [
            "Top 5 rows of the DataFrame:     aaa  aaa meat  aaa ribeye  aaand  aaand im  aau  aau basketball   ab  \\\n",
            "0  0.0       0.0         0.0    0.0       0.0  0.0             0.0  0.0   \n",
            "1  0.0       0.0         0.0    0.0       0.0  0.0             0.0  0.0   \n",
            "2  0.0       0.0         0.0    0.0       0.0  0.0             0.0  0.0   \n",
            "3  0.0       0.0         0.0    0.0       0.0  0.0             0.0  0.0   \n",
            "4  0.0       0.0         0.0    0.0       0.0  0.0             0.0  0.0   \n",
            "\n",
            "   ab eggr  aback  ...  étoile plus  étrangement  étrangement leau  été  \\\n",
            "0      0.0    0.0  ...          0.0          0.0               0.0  0.0   \n",
            "1      0.0    0.0  ...          0.0          0.0               0.0  0.0   \n",
            "2      0.0    0.0  ...          0.0          0.0               0.0  0.0   \n",
            "3      0.0    0.0  ...          0.0          0.0               0.0  0.0   \n",
            "4      0.0    0.0  ...          0.0          0.0               0.0  0.0   \n",
            "\n",
            "   été accueillis  été décu  été très  été époustouflée  üppige  \\\n",
            "0             0.0       0.0       0.0               0.0     0.0   \n",
            "1             0.0       0.0       0.0               0.0     0.0   \n",
            "2             0.0       0.0       0.0               0.0     0.0   \n",
            "3             0.0       0.0       0.0               0.0     0.0   \n",
            "4             0.0       0.0       0.0               0.0     0.0   \n",
            "\n",
            "   üppige mahlzeit  \n",
            "0              0.0  \n",
            "1              0.0  \n",
            "2              0.0  \n",
            "3              0.0  \n",
            "4              0.0  \n",
            "\n",
            "[5 rows x 86896 columns]\n"
          ],
          "name": "stdout"
        }
      ]
    },
    {
      "cell_type": "code",
      "metadata": {
        "id": "DSS7zpwdYyuV",
        "colab_type": "code",
        "colab": {}
      },
      "source": [
        "from sklearn.linear_model import LogisticRegression\n",
        "\n",
        "#accuracy using accuracy_score\n",
        "from sklearn.metrics import accuracy_score"
      ],
      "execution_count": 0,
      "outputs": []
    },
    {
      "cell_type": "code",
      "metadata": {
        "id": "D_l345TeYyuY",
        "colab_type": "code",
        "colab": {},
        "outputId": "ff78dfc9-3379-43dc-9b0e-5a849e87e806"
      },
      "source": [
        "# Import the required vectorizer package and stop words list\n",
        "from sklearn.feature_extraction.text import TfidfVectorizer,ENGLISH_STOP_WORDS\n",
        "\n",
        "# Define the vectorizer and specify the arguments\n",
        "#my_pattern = r'\\b[^\\d\\W][^\\d\\W]+\\b'\n",
        "vect = TfidfVectorizer(ngram_range=(1, 2), max_features=None,stop_words=ENGLISH_STOP_WORDS).fit(df_cafe_clean.review_text)\n",
        "\n",
        "# Transform the vectorizer\n",
        "X_txt = vect.transform(df_cafe_clean.review_text)\n",
        "\n",
        "# Transform to a data frame and specify the column names\n",
        "X=pd.DataFrame(X_txt.toarray(), columns=vect.get_feature_names())\n",
        "print('Top 5 rows of the DataFrame: ', X.head())"
      ],
      "execution_count": 0,
      "outputs": [
        {
          "output_type": "stream",
          "text": [
            "Top 5 rows of the DataFrame:     aaa  aaa meat  aaa ribeye  aaand  aaand im  aau  aau basketball   ab  \\\n",
            "0  0.0       0.0         0.0    0.0       0.0  0.0             0.0  0.0   \n",
            "1  0.0       0.0         0.0    0.0       0.0  0.0             0.0  0.0   \n",
            "2  0.0       0.0         0.0    0.0       0.0  0.0             0.0  0.0   \n",
            "3  0.0       0.0         0.0    0.0       0.0  0.0             0.0  0.0   \n",
            "4  0.0       0.0         0.0    0.0       0.0  0.0             0.0  0.0   \n",
            "\n",
            "   ab eggr  aback  ...  étoile plus  étrangement  étrangement leau  été  \\\n",
            "0      0.0    0.0  ...          0.0          0.0               0.0  0.0   \n",
            "1      0.0    0.0  ...          0.0          0.0               0.0  0.0   \n",
            "2      0.0    0.0  ...          0.0          0.0               0.0  0.0   \n",
            "3      0.0    0.0  ...          0.0          0.0               0.0  0.0   \n",
            "4      0.0    0.0  ...          0.0          0.0               0.0  0.0   \n",
            "\n",
            "   été accueillis  été décu  été très  été époustouflée  üppige  \\\n",
            "0             0.0       0.0       0.0               0.0     0.0   \n",
            "1             0.0       0.0       0.0               0.0     0.0   \n",
            "2             0.0       0.0       0.0               0.0     0.0   \n",
            "3             0.0       0.0       0.0               0.0     0.0   \n",
            "4             0.0       0.0       0.0               0.0     0.0   \n",
            "\n",
            "   üppige mahlzeit  \n",
            "0              0.0  \n",
            "1              0.0  \n",
            "2              0.0  \n",
            "3              0.0  \n",
            "4              0.0  \n",
            "\n",
            "[5 rows x 86896 columns]\n"
          ],
          "name": "stdout"
        }
      ]
    },
    {
      "cell_type": "code",
      "metadata": {
        "id": "f_CmYQ3gYyua",
        "colab_type": "code",
        "colab": {},
        "outputId": "cf549537-305a-453f-f3ba-5f5263dc529f"
      },
      "source": [
        "y = df_cafe_clean.class_label\n",
        "\n",
        "# Build a logistic regression model and calculate the accuracy\n",
        "log_reg = LogisticRegression().fit(X, y)\n",
        "print('Accuracy of logistic regression: ', log_reg.score(X, y))"
      ],
      "execution_count": 0,
      "outputs": [
        {
          "output_type": "stream",
          "text": [
            "C:\\ProgramData\\Anaconda3\\lib\\site-packages\\sklearn\\linear_model\\logistic.py:432: FutureWarning: Default solver will be changed to 'lbfgs' in 0.22. Specify a solver to silence this warning.\n",
            "  FutureWarning)\n"
          ],
          "name": "stderr"
        },
        {
          "output_type": "stream",
          "text": [
            "Accuracy of logistic regression:  0.855\n"
          ],
          "name": "stdout"
        }
      ]
    },
    {
      "cell_type": "code",
      "metadata": {
        "id": "K3gr42BZYyud",
        "colab_type": "code",
        "colab": {},
        "outputId": "e2384dbe-af1d-45e9-db81-68037701e78d"
      },
      "source": [
        "# Create an array of prediction\n",
        "y_predict = log_reg.predict(X)\n",
        "\n",
        "# Print the accuracy using accuracy score\n",
        "print('Accuracy of logistic regression: ', accuracy_score(y, y_predict))"
      ],
      "execution_count": 0,
      "outputs": [
        {
          "output_type": "stream",
          "text": [
            "Accuracy of logistic regression:  0.855\n"
          ],
          "name": "stdout"
        }
      ]
    },
    {
      "cell_type": "code",
      "metadata": {
        "id": "AVuEaaHMYyug",
        "colab_type": "code",
        "colab": {}
      },
      "source": [
        "from sklearn.model_selection import train_test_split"
      ],
      "execution_count": 0,
      "outputs": []
    },
    {
      "cell_type": "code",
      "metadata": {
        "id": "-CViE_j5Yyui",
        "colab_type": "code",
        "colab": {}
      },
      "source": [
        "y = df_fashion_clean_en.class_label\n",
        "\n",
        "X_train, X_test, y_train, y_test = train_test_split(X, y, random_state=123, test_size=0.2, stratify= y)"
      ],
      "execution_count": 0,
      "outputs": []
    },
    {
      "cell_type": "code",
      "metadata": {
        "id": "q_3p8ZyrYyul",
        "colab_type": "code",
        "colab": {},
        "outputId": "8a9e5e66-edc9-48cf-e18b-f7a663053b4a"
      },
      "source": [
        "\n",
        "# Build a logistic regression model and calculate the accuracy\n",
        "log_reg = LogisticRegression().fit(X_train, y_train)\n",
        "print('Accuracy of training data: ', log_reg.score(X_train, y_train))"
      ],
      "execution_count": 0,
      "outputs": [
        {
          "output_type": "stream",
          "text": [
            "C:\\ProgramData\\Anaconda3\\lib\\site-packages\\sklearn\\linear_model\\logistic.py:432: FutureWarning: Default solver will be changed to 'lbfgs' in 0.22. Specify a solver to silence this warning.\n",
            "  FutureWarning)\n"
          ],
          "name": "stderr"
        },
        {
          "output_type": "stream",
          "text": [
            "Accuracy of training data:  0.826875\n"
          ],
          "name": "stdout"
        }
      ]
    },
    {
      "cell_type": "code",
      "metadata": {
        "id": "ACgAejRlYyuo",
        "colab_type": "code",
        "colab": {},
        "outputId": "ba835c84-3582-4e5e-d024-c9e1dd71ba41"
      },
      "source": [
        "print('Accuracy on Testing data', log_reg.score(X_test, y_test))"
      ],
      "execution_count": 0,
      "outputs": [
        {
          "output_type": "stream",
          "text": [
            "Accuracy on Testing data 0.75\n"
          ],
          "name": "stdout"
        }
      ]
    },
    {
      "cell_type": "code",
      "metadata": {
        "id": "waViaK-dYyuq",
        "colab_type": "code",
        "colab": {},
        "outputId": "f8bdad98-91e1-4e3c-f2c4-7648db226922"
      },
      "source": [
        "y_predicted = log_reg.predict(X_test)\n",
        "print('Accuracy score on Test data', accuracy_score(y_test, y_predicted))"
      ],
      "execution_count": 0,
      "outputs": [
        {
          "output_type": "stream",
          "text": [
            "Accuracy score on Test data 0.75\n"
          ],
          "name": "stdout"
        }
      ]
    },
    {
      "cell_type": "code",
      "metadata": {
        "id": "p5PeBtKIYyut",
        "colab_type": "code",
        "colab": {},
        "outputId": "0f73c355-227c-49dc-fa3b-2c888cb9dd18"
      },
      "source": [
        "from sklearn.metrics import confusion_matrix\n",
        "\n",
        "print(confusion_matrix(y_test, y_predicted)/len(y_test))"
      ],
      "execution_count": 0,
      "outputs": [
        {
          "output_type": "stream",
          "text": [
            "[[0.02 0.25]\n",
            " [0.   0.73]]\n"
          ],
          "name": "stdout"
        }
      ]
    },
    {
      "cell_type": "code",
      "metadata": {
        "id": "YSReW49MYyuv",
        "colab_type": "code",
        "colab": {}
      },
      "source": [
        "def vectorise_reviews(df_category):\n",
        "    vect = TfidfVectorizer(ngram_range=(1, 2), max_features=None,stop_words=ENGLISH_STOP_WORDS).fit(df_category.review_text)\n",
        "\n",
        "    # Transform the vectorizer\n",
        "    X_txt = vect.transform(df_category.review_text)\n",
        "\n",
        "    # Transform to a data frame and specify the column names\n",
        "    X=pd.DataFrame(X_txt.toarray(), columns=vect.get_feature_names())\n",
        "    print('Top 5 rows of the DataFrame: ', X.head())\n",
        "    \n",
        "    return X"
      ],
      "execution_count": 0,
      "outputs": []
    },
    {
      "cell_type": "code",
      "metadata": {
        "id": "mmUjfJjoYyux",
        "colab_type": "code",
        "colab": {},
        "outputId": "2954fcbe-8a29-4798-d4ba-b7e5b8cb4ff9"
      },
      "source": [
        "vectorised_cafe = vectorise_reviews(df_cafe_clean)"
      ],
      "execution_count": 0,
      "outputs": [
        {
          "output_type": "stream",
          "text": [
            "Top 5 rows of the DataFrame:     aaa  aaa meat  aaa ribeye  aaand  aaand im  aau  aau basketball   ab  \\\n",
            "0  0.0       0.0         0.0    0.0       0.0  0.0             0.0  0.0   \n",
            "1  0.0       0.0         0.0    0.0       0.0  0.0             0.0  0.0   \n",
            "2  0.0       0.0         0.0    0.0       0.0  0.0             0.0  0.0   \n",
            "3  0.0       0.0         0.0    0.0       0.0  0.0             0.0  0.0   \n",
            "4  0.0       0.0         0.0    0.0       0.0  0.0             0.0  0.0   \n",
            "\n",
            "   ab eggr  aback  ...  étoile plus  étrangement  étrangement leau  été  \\\n",
            "0      0.0    0.0  ...          0.0          0.0               0.0  0.0   \n",
            "1      0.0    0.0  ...          0.0          0.0               0.0  0.0   \n",
            "2      0.0    0.0  ...          0.0          0.0               0.0  0.0   \n",
            "3      0.0    0.0  ...          0.0          0.0               0.0  0.0   \n",
            "4      0.0    0.0  ...          0.0          0.0               0.0  0.0   \n",
            "\n",
            "   été accueillis  été décu  été très  été époustouflée  üppige  \\\n",
            "0             0.0       0.0       0.0               0.0     0.0   \n",
            "1             0.0       0.0       0.0               0.0     0.0   \n",
            "2             0.0       0.0       0.0               0.0     0.0   \n",
            "3             0.0       0.0       0.0               0.0     0.0   \n",
            "4             0.0       0.0       0.0               0.0     0.0   \n",
            "\n",
            "   üppige mahlzeit  \n",
            "0              0.0  \n",
            "1              0.0  \n",
            "2              0.0  \n",
            "3              0.0  \n",
            "4              0.0  \n",
            "\n",
            "[5 rows x 86896 columns]\n"
          ],
          "name": "stdout"
        }
      ]
    },
    {
      "cell_type": "code",
      "metadata": {
        "id": "EGgLX1taYyuz",
        "colab_type": "code",
        "colab": {}
      },
      "source": [
        "def fit_and_predict(df_c):\n",
        "    vectorised_reviews_X = vectorise_reviews(df_c)\n",
        "    target_y = df_c.class_label\n",
        "\n",
        "    X_train, X_test, y_train, y_test = train_test_split(vectorised_reviews_X, target_y, random_state=123, test_size=0.2, stratify= y)\n",
        "\n",
        "    # Build a logistic regression model and calculate the accuracy\n",
        "    log_reg = LogisticRegression().fit(X_train, y_train)\n",
        "    print('Accuracy of training data: ', log_reg.score(X_train, y_train))\n",
        "    print('Accuracy on Testing data', log_reg.score(X_test, y_test))\n",
        "    y_predicted = log_reg.predict(X_test)\n",
        "    print('Accuracy score on Test data', accuracy_score(y_test, y_predicted))\n",
        "    from sklearn.metrics import confusion_matrix\n",
        "\n",
        "    print(confusion_matrix(y_test, y_predicted)/len(y_test))"
      ],
      "execution_count": 0,
      "outputs": []
    },
    {
      "cell_type": "code",
      "metadata": {
        "id": "T8MCtpgxYyu1",
        "colab_type": "code",
        "colab": {},
        "outputId": "00625a2b-b40d-4158-d32b-468542803122"
      },
      "source": [
        "fit_and_predict(df_cafe_clean)"
      ],
      "execution_count": 0,
      "outputs": [
        {
          "output_type": "stream",
          "text": [
            "Top 5 rows of the DataFrame:     aaa  aaa meat  aaa ribeye  aaand  aaand im  aau  aau basketball   ab  \\\n",
            "0  0.0       0.0         0.0    0.0       0.0  0.0             0.0  0.0   \n",
            "1  0.0       0.0         0.0    0.0       0.0  0.0             0.0  0.0   \n",
            "2  0.0       0.0         0.0    0.0       0.0  0.0             0.0  0.0   \n",
            "3  0.0       0.0         0.0    0.0       0.0  0.0             0.0  0.0   \n",
            "4  0.0       0.0         0.0    0.0       0.0  0.0             0.0  0.0   \n",
            "\n",
            "   ab eggr  aback  ...  étoile plus  étrangement  étrangement leau  été  \\\n",
            "0      0.0    0.0  ...          0.0          0.0               0.0  0.0   \n",
            "1      0.0    0.0  ...          0.0          0.0               0.0  0.0   \n",
            "2      0.0    0.0  ...          0.0          0.0               0.0  0.0   \n",
            "3      0.0    0.0  ...          0.0          0.0               0.0  0.0   \n",
            "4      0.0    0.0  ...          0.0          0.0               0.0  0.0   \n",
            "\n",
            "   été accueillis  été décu  été très  été époustouflée  üppige  \\\n",
            "0             0.0       0.0       0.0               0.0     0.0   \n",
            "1             0.0       0.0       0.0               0.0     0.0   \n",
            "2             0.0       0.0       0.0               0.0     0.0   \n",
            "3             0.0       0.0       0.0               0.0     0.0   \n",
            "4             0.0       0.0       0.0               0.0     0.0   \n",
            "\n",
            "   üppige mahlzeit  \n",
            "0              0.0  \n",
            "1              0.0  \n",
            "2              0.0  \n",
            "3              0.0  \n",
            "4              0.0  \n",
            "\n",
            "[5 rows x 86896 columns]\n"
          ],
          "name": "stdout"
        },
        {
          "output_type": "stream",
          "text": [
            "C:\\ProgramData\\Anaconda3\\lib\\site-packages\\sklearn\\linear_model\\logistic.py:432: FutureWarning: Default solver will be changed to 'lbfgs' in 0.22. Specify a solver to silence this warning.\n",
            "  FutureWarning)\n"
          ],
          "name": "stderr"
        },
        {
          "output_type": "stream",
          "text": [
            "Accuracy of training data:  0.826875\n",
            "Accuracy on Testing data 0.75\n",
            "Accuracy score on Test data 0.75\n",
            "[[0.02 0.25]\n",
            " [0.   0.73]]\n"
          ],
          "name": "stdout"
        }
      ]
    },
    {
      "cell_type": "code",
      "metadata": {
        "id": "hM0JGzDyYyu3",
        "colab_type": "code",
        "colab": {},
        "outputId": "04cacfba-f7a5-43d0-fca5-0570aab47024"
      },
      "source": [
        "fit_and_predict(df_auto_clean)"
      ],
      "execution_count": 0,
      "outputs": [
        {
          "output_type": "stream",
          "text": [
            "Top 5 rows of the DataFrame:      aa  aa auto  aaa  aaa allied  aaa approved  aaa aproval  aaa came  \\\n",
            "0  0.0      0.0  0.0         0.0           0.0          0.0       0.0   \n",
            "1  0.0      0.0  0.0         0.0           0.0          0.0       0.0   \n",
            "2  0.0      0.0  0.0         0.0           0.0          0.0       0.0   \n",
            "3  0.0      0.0  0.0         0.0           0.0          0.0       0.0   \n",
            "4  0.0      0.0  0.0         0.0           0.0          0.0       0.0   \n",
            "\n",
            "   aaa car  aaa card  aaa member  ...  zsofia summer  zullo  zullo internet  \\\n",
            "0      0.0       0.0         0.0  ...            0.0    0.0             0.0   \n",
            "1      0.0       0.0         0.0  ...            0.0    0.0             0.0   \n",
            "2      0.0       0.0         0.0  ...            0.0    0.0             0.0   \n",
            "3      0.0       0.0         0.0  ...            0.0    0.0             0.0   \n",
            "4      0.0       0.0         0.0  ...            0.0    0.0             0.0   \n",
            "\n",
            "   zullo tenaflynj  électroniques  électroniques ont  été  été bâclé  \\\n",
            "0              0.0            0.0                0.0  0.0        0.0   \n",
            "1              0.0            0.0                0.0  0.0        0.0   \n",
            "2              0.0            0.0                0.0  0.0        0.0   \n",
            "3              0.0            0.0                0.0  0.0        0.0   \n",
            "4              0.0            0.0                0.0  0.0        0.0   \n",
            "\n",
            "   été innondé  été subis  \n",
            "0          0.0        0.0  \n",
            "1          0.0        0.0  \n",
            "2          0.0        0.0  \n",
            "3          0.0        0.0  \n",
            "4          0.0        0.0  \n",
            "\n",
            "[5 rows x 85115 columns]\n"
          ],
          "name": "stdout"
        },
        {
          "output_type": "stream",
          "text": [
            "C:\\ProgramData\\Anaconda3\\lib\\site-packages\\sklearn\\linear_model\\logistic.py:432: FutureWarning: Default solver will be changed to 'lbfgs' in 0.22. Specify a solver to silence this warning.\n",
            "  FutureWarning)\n"
          ],
          "name": "stderr"
        },
        {
          "output_type": "stream",
          "text": [
            "Accuracy of training data:  0.979375\n",
            "Accuracy on Testing data 0.8275\n",
            "Accuracy score on Test data 0.8275\n",
            "[[0.2325 0.1575]\n",
            " [0.015  0.595 ]]\n"
          ],
          "name": "stdout"
        }
      ]
    },
    {
      "cell_type": "code",
      "metadata": {
        "id": "QWh7LkPbYyu5",
        "colab_type": "code",
        "colab": {},
        "outputId": "8f1b3c10-3378-4c06-a84f-34e912458cde"
      },
      "source": [
        "fit_and_predict(df_fash_clean)"
      ],
      "execution_count": 0,
      "outputs": [
        {
          "output_type": "stream",
          "text": [
            "Top 5 rows of the DataFrame:     aaa  aaa specific  aahed  aahed cars  aaron  aaron athletic  \\\n",
            "0  0.0           0.0    0.0         0.0    0.0             0.0   \n",
            "1  0.0           0.0    0.0         0.0    0.0             0.0   \n",
            "2  0.0           0.0    0.0         0.0    0.0             0.0   \n",
            "3  0.0           0.0    0.0         0.0    0.0             0.0   \n",
            "4  0.0           0.0    0.0         0.0    0.0             0.0   \n",
            "\n",
            "   aaron recommend  aaron ross  aaron salesmans  abandoned  ...  zurich  \\\n",
            "0              0.0         0.0              0.0        0.0  ...     0.0   \n",
            "1              0.0         0.0              0.0        0.0  ...     0.0   \n",
            "2              0.0         0.0              0.0        0.0  ...     0.0   \n",
            "3              0.0         0.0              0.0        0.0  ...     0.0   \n",
            "4              0.0         0.0              0.0        0.0  ...     0.0   \n",
            "\n",
            "   zurich surprise  échange  échange et  écouté  écouté son  également  \\\n",
            "0              0.0      0.0         0.0     0.0         0.0        0.0   \n",
            "1              0.0      0.0         0.0     0.0         0.0        0.0   \n",
            "2              0.0      0.0         0.0     0.0         0.0        0.0   \n",
            "3              0.0      0.0         0.0     0.0         0.0        0.0   \n",
            "4              0.0      0.0         0.0     0.0         0.0        0.0   \n",
            "\n",
            "   également pour  été  été accepté  \n",
            "0             0.0  0.0          0.0  \n",
            "1             0.0  0.0          0.0  \n",
            "2             0.0  0.0          0.0  \n",
            "3             0.0  0.0          0.0  \n",
            "4             0.0  0.0          0.0  \n",
            "\n",
            "[5 rows x 90044 columns]\n"
          ],
          "name": "stdout"
        },
        {
          "output_type": "stream",
          "text": [
            "C:\\ProgramData\\Anaconda3\\lib\\site-packages\\sklearn\\linear_model\\logistic.py:432: FutureWarning: Default solver will be changed to 'lbfgs' in 0.22. Specify a solver to silence this warning.\n",
            "  FutureWarning)\n"
          ],
          "name": "stderr"
        },
        {
          "output_type": "stream",
          "text": [
            "Accuracy of training data:  0.96875\n",
            "Accuracy on Testing data 0.8325\n",
            "Accuracy score on Test data 0.8325\n",
            "[[0.2    0.1525]\n",
            " [0.015  0.6325]]\n"
          ],
          "name": "stdout"
        }
      ]
    },
    {
      "cell_type": "code",
      "metadata": {
        "id": "SxCcmOeYYyu8",
        "colab_type": "code",
        "colab": {}
      },
      "source": [
        "def predict_on_test(cat_a, cat_b, cat_c):\n",
        "    vect = TfidfVectorizer(ngram_range=(1, 2), max_features=None,stop_words=ENGLISH_STOP_WORDS).fit(cat_a.review_text)\n",
        "\n",
        "    # Transform the vectorizer\n",
        "    X_cat_a_txt = vect.transform(cat_a.review_text)\n",
        "    X_cat_b_txt = vect.transform(cat_b.review_text)\n",
        "    X_cat_c_txt = vect.transform(cat_c.review_text)\n",
        "\n",
        "    # Transform to a data frame and specify the column names\n",
        "    X_cat_a_features = pd.DataFrame(X_cat_a_txt.toarray(), columns=vect.get_feature_names())\n",
        "    X_cat_b_features = pd.DataFrame(X_cat_b_txt.toarray(), columns=vect.get_feature_names())\n",
        "    X_cat_c_features = pd.DataFrame(X_cat_c_txt.toarray(), columns=vect.get_feature_names())\n",
        "    #print('Top 5 rows of the DataFrame: ', X_cafe_features.head())\n",
        "    #print('Top 5 rows of the DataFrame: ', X_auto_features.head())\n",
        "    #print('Top 5 rows of the DataFrame: ', X_fash_features.head())\n",
        "    X_cat_a_train = X_cat_a_features\n",
        "    y_cat_a_train = cat_a['class_label']\n",
        "\n",
        "\n",
        "    # Build a logistic regression model and calculate the accuracy\n",
        "    log_reg = LogisticRegression().fit(X_cat_a_train, y_cat_a_train)\n",
        "\n",
        "    X_test_cat_b_features = X_cat_b_features\n",
        "    y_test_cat_b = cat_b['class_label']\n",
        "\n",
        "    X_test_cat_c_features = X_cat_c_features\n",
        "    y_test_cat_c = cat_c['class_label']\n",
        "\n",
        "\n",
        "    y_predict_cat_b = log_reg.predict(X_test_cat_b_features)\n",
        "    y_predict_cat_c = log_reg.predict(X_test_cat_c_features)\n",
        "\n",
        "    accuracy_cat_b = accuracy_score(y_test_cat_b, y_predict_cat_b)\n",
        "    accuracy_cat_c = accuracy_score(y_test_cat_c, y_predict_cat_c)\n",
        "\n",
        "\n",
        "    print(accuracy_cat_b)\n",
        "    print(accuracy_cat_c)\n"
      ],
      "execution_count": 0,
      "outputs": []
    },
    {
      "cell_type": "code",
      "metadata": {
        "id": "cB3k3alUYyu-",
        "colab_type": "code",
        "colab": {},
        "outputId": "c7c92185-5611-444c-bd0b-c61c05ca47e1"
      },
      "source": [
        "predict_on_test(df_cafe_clean, df_auto_clean, df_fash_clean)"
      ],
      "execution_count": 0,
      "outputs": [
        {
          "output_type": "stream",
          "text": [
            "C:\\ProgramData\\Anaconda3\\lib\\site-packages\\sklearn\\linear_model\\logistic.py:432: FutureWarning: Default solver will be changed to 'lbfgs' in 0.22. Specify a solver to silence this warning.\n",
            "  FutureWarning)\n"
          ],
          "name": "stderr"
        },
        {
          "output_type": "stream",
          "text": [
            "0.7645\n",
            "0.736\n"
          ],
          "name": "stdout"
        }
      ]
    },
    {
      "cell_type": "code",
      "metadata": {
        "id": "mLndfwBGYyvB",
        "colab_type": "code",
        "colab": {},
        "outputId": "31e05851-c742-48c9-fe0c-9414602736b0"
      },
      "source": [
        "predict_on_test(df_auto_clean, df_fash_clean, df_cafe_clean)"
      ],
      "execution_count": 0,
      "outputs": [
        {
          "output_type": "stream",
          "text": [
            "C:\\ProgramData\\Anaconda3\\lib\\site-packages\\sklearn\\linear_model\\logistic.py:432: FutureWarning: Default solver will be changed to 'lbfgs' in 0.22. Specify a solver to silence this warning.\n",
            "  FutureWarning)\n"
          ],
          "name": "stderr"
        },
        {
          "output_type": "stream",
          "text": [
            "0.8265\n",
            "0.817\n"
          ],
          "name": "stdout"
        }
      ]
    },
    {
      "cell_type": "code",
      "metadata": {
        "id": "wDfI4RGNYyvD",
        "colab_type": "code",
        "colab": {},
        "outputId": "83b9e38d-f787-4d7c-e58f-962d2d814520"
      },
      "source": [
        "predict_on_test(df_fash_clean, df_cafe_clean, df_auto_clean)"
      ],
      "execution_count": 0,
      "outputs": [
        {
          "output_type": "stream",
          "text": [
            "C:\\ProgramData\\Anaconda3\\lib\\site-packages\\sklearn\\linear_model\\logistic.py:432: FutureWarning: Default solver will be changed to 'lbfgs' in 0.22. Specify a solver to silence this warning.\n",
            "  FutureWarning)\n"
          ],
          "name": "stderr"
        },
        {
          "output_type": "stream",
          "text": [
            "0.8345\n",
            "0.8735\n"
          ],
          "name": "stdout"
        }
      ]
    },
    {
      "cell_type": "code",
      "metadata": {
        "id": "uky3ahXhYyvG",
        "colab_type": "code",
        "colab": {}
      },
      "source": [
        ""
      ],
      "execution_count": 0,
      "outputs": []
    }
  ]
}